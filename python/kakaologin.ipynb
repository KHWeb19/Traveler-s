{
 "cells": [
  {
   "cell_type": "code",
   "execution_count": 1,
   "id": "fcadb536",
   "metadata": {},
   "outputs": [],
   "source": [
    "import requests\n",
    "import json\n",
    "import datetime\n",
    "import os\n",
    "\n",
    "def kakao_login(code):\n",
    "    url = \"https://kauth.kakao.com/oauth/token\"\n",
    "    \n",
    "    data = {\n",
    "        \"grant_type\": \"authorization_code\",\n",
    "        \"client_id\": \"11d8ebef889239a83c2db142c8d841a6\",\n",
    "        \"redirect_uri\": \"http://localhost:7777/kakaoLogin\",\n",
    "        \"code\": code\n",
    "    }\n",
    "\n",
    "    response = requests.post(url, data=data)\n",
    "\n",
    "    if response.status_code != 200:\n",
    "        print(\"에러!!!\")\n",
    "    else:\n",
    "        tokens = response.json()\n",
    "        print(tokens)\n",
    "    \n",
    "    return tokens\n",
    "        \n",
    "def save_tokens(filename, tokens):\n",
    "    with open(filename, \"w\") as fp:\n",
    "        json.dump(tokens, fp)\n",
    "        \n",
    "# 읽기\n",
    "def load_tokens(filename):\n",
    "    with open(filename) as fp:\n",
    "        tokens = json.load(fp)\n",
    "        \n",
    "    return tokens"
   ]
  },
  {
   "cell_type": "code",
   "execution_count": 2,
   "id": "a10af309",
   "metadata": {},
   "outputs": [],
   "source": [
    "def getProfile(tokens):\n",
    "    url = \"https://kapi.kakao.com/v2/user/me\"\n",
    "\n",
    "    headers = {\n",
    "        \"Authorization\": \"Bearer \" + tokens['access_token'],\n",
    "    }\n",
    "\n",
    "    response = requests.post(url, headers=headers)\n",
    "    print(response.status_code)\n",
    "    profile = response.json()\n",
    "\n",
    "    if response.status_code != 200:\n",
    "        print(\"에러!\")\n",
    "    else:\n",
    "        print(\"카톡 메시지가 간드아!!!\")\n",
    "    \n",
    "    return profile"
   ]
  },
  {
   "cell_type": "code",
   "execution_count": null,
   "id": "1dcf48ef",
   "metadata": {},
   "outputs": [
    {
     "name": "stdout",
     "output_type": "stream",
     "text": [
      " * Serving Flask app \"__main__\" (lazy loading)\n",
      " * Environment: production\n",
      "\u001b[31m   WARNING: This is a development server. Do not use it in a production deployment.\u001b[0m\n",
      "\u001b[2m   Use a production WSGI server instead.\u001b[0m\n",
      " * Debug mode: off\n"
     ]
    },
    {
     "name": "stderr",
     "output_type": "stream",
     "text": [
      " * Running on http://127.0.0.1:5000/ (Press CTRL+C to quit)\n",
      "127.0.0.1 - - [27/May/2022 20:39:55] \"POST /kakao-login HTTP/1.1\" 200 -\n"
     ]
    },
    {
     "name": "stdout",
     "output_type": "stream",
     "text": [
      "{'access_token': '7NH8WsWVEqgIc2Va6DaUhVlg2fTreZuIxapOZbumCj1zTgAAAYEFUOGo', 'token_type': 'bearer', 'refresh_token': 'hUTlNSn8ecYNpb1tXtFKUaAPEEPM9iRCT1dAkw1ECj1zTgAAAYEFUOGm', 'expires_in': 21599, 'scope': 'account_email profile_nickname', 'refresh_token_expires_in': 5183999}\n",
      "200\n",
      "카톡 메시지가 간드아!!!\n"
     ]
    }
   ],
   "source": [
    "from flask import Flask, url_for, request, jsonify\n",
    "from flask_cors import CORS, cross_origin\n",
    "\n",
    "import json\n",
    "\n",
    "app = Flask(__name__)\n",
    "CORS(app)\n",
    "\n",
    "@app.route('/kakao-login', methods = ['POST'])\n",
    "def login():\n",
    "    #Spring에서 code 값 받아오기\n",
    "    params = json.loads(request.get_data())\n",
    "    #코드값 code에 저장\n",
    "    code = params['code']\n",
    "    KAKAO_LOGIN_TOKEN_SAVED_FILE = \"kakao_login/kakao_login_token.json\"\n",
    "    #토큰 요청 후 받아오기\n",
    "    authorize_tokens = kakao_login(code)\n",
    "    #토큰 저장\n",
    "    save_tokens(KAKAO_LOGIN_TOKEN_SAVED_FILE, authorize_tokens)\n",
    "    #토큰 불러오기\n",
    "    tokens = load_tokens(KAKAO_LOGIN_TOKEN_SAVED_FILE)\n",
    "   \n",
    "    \n",
    "    #프로필 요청 및 프로필 정보 spring으로 전달\n",
    "    return getProfile(tokens)\n",
    "\n",
    "\n",
    "if __name__ == \"__main__\":\n",
    "    app.run()"
   ]
  }
 ],
 "metadata": {
  "kernelspec": {
   "display_name": "Python 3 (ipykernel)",
   "language": "python",
   "name": "python3"
  },
  "language_info": {
   "codemirror_mode": {
    "name": "ipython",
    "version": 3
   },
   "file_extension": ".py",
   "mimetype": "text/x-python",
   "name": "python",
   "nbconvert_exporter": "python",
   "pygments_lexer": "ipython3",
   "version": "3.9.12"
  }
 },
 "nbformat": 4,
 "nbformat_minor": 5
}
